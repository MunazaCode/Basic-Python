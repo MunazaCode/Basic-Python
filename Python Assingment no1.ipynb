{
  "cells": [
    {
      "cell_type": "code",
      "execution_count": null,
      "metadata": {},
      "outputs": [],
      "source": [
        "#Exercise 1:\n",
        "#Write a Python program to create a list of 5 integers and perform the following\n",
        "operations:\n",
        "○ Print the list.\n",
        "○ Append a new integer to the list.\n",
        "○ Sort the list in ascending order.\n",
        "○ Reverse the elements of the list."
      ]
    },
    {
      "cell_type": "code",
      "execution_count": null,
      "metadata": {
        "colab": {
          "base_uri": "https://localhost:8080/"
        },
        "id": "hvJxrdV8Bknn",
        "outputId": "de974552-f6f8-4bf1-bf2e-1724260d14e4"
      },
      "outputs": [
        {
          "name": "stdout",
          "output_type": "stream",
          "text": [
            "Orignal list [9, 2, 7, 4, 5]\n",
            "list after append [9, 2, 7, 4, 5, 6]\n",
            "Asssendng order list [2, 4, 5, 6, 7, 9]\n",
            "desending order list [9, 7, 6, 5, 4, 2]\n"
          ]
        }
      ],
      "source": [
        "my_list = [9,2,7,4,5]\n",
        "print('Orignal list' ,my_list)\n",
        "my_list.append(6)\n",
        "print('list after append' ,my_list)\n",
        "my_list.sort()\n",
        "print('Asssendng order list' , my_list)\n",
        "my_list.sort(reverse=True)\n",
        "print('desending order list' , my_list)"
      ]
    },
    {
      "cell_type": "markdown",
      "metadata": {},
      "source": [
        "Exercise 2:\n",
        "Create a tuple of 4 elements and perform the following operations:\n",
        "○ Print the tuple.\n",
        "○ Access the third element of the tuple.\n",
        "○ Concatenate the tuple with another tuple of 2 elements.\n",
        "○ Print the length of the concatenated tuple."
      ]
    },
    {
      "cell_type": "code",
      "execution_count": null,
      "metadata": {
        "colab": {
          "base_uri": "https://localhost:8080/"
        },
        "id": "Nw-VvONbI4c5",
        "outputId": "3da09871-30fa-46b0-c7df-c5cd2f29353a"
      },
      "outputs": [
        {
          "name": "stdout",
          "output_type": "stream",
          "text": [
            "Orignal tuple (3, 4, 8, 'hello python')\n",
            "access third element:  hello python\n",
            "(3, 4, 8, 'hello python', 7, 8)\n",
            "length of new concatenated tuple: 6\n"
          ]
        }
      ],
      "source": [
        "tuple = (3,4,8,'hello python')\n",
        "print('Orignal tuple' , tuple)\n",
        "print(('access third element: ') ,tuple[3])\n",
        "tuple_1 = (7,8)\n",
        "new_tuple = tuple + tuple_1\n",
        "print(new_tuple)\n",
        "print(('length of new concatenated tuple:') ,len(new_tuple))"
      ]
    },
    {
      "cell_type": "markdown",
      "metadata": {},
      "source": []
    },
    {
      "cell_type": "code",
      "execution_count": null,
      "metadata": {
        "id": "mDoKKOmyMrue"
      },
      "outputs": [],
      "source": [
        "# Create Dictionary\n",
        "Exercise 3:\n",
        "Create a dictionary representing a student record with keys: 'name', 'roll_number',\n",
        "'marks'. Perform the following operations:\n",
        "○ Print the dictionary.\n",
        "○ Update the marks to 85.\n",
        "○ Check if 'grade' key exists, if not, add 'grade' with value 'A'."
      ]
    },
    {
      "cell_type": "code",
      "execution_count": null,
      "metadata": {
        "colab": {
          "base_uri": "https://localhost:8080/"
        },
        "id": "7fsKanL1Mx1B",
        "outputId": "4b371674-f45c-4537-c852-8590ebcdfd56"
      },
      "outputs": [
        {
          "name": "stdout",
          "output_type": "stream",
          "text": [
            "Orignal dictionary {'name': 'munaza', 'Roll_num': '17', 'marks': '72'}\n",
            "marks updated in dictionary {'name': 'munaza', 'Roll_num': '17', 'marks': 85}\n",
            "{'name': 'munaza', 'Roll_num': '17', 'marks': 85, 'grade': 'A'}\n"
          ]
        }
      ],
      "source": [
        "dict_1 = {\"name\" : \"munaza\" , \"Roll_num\" : \"17\" , \"marks\" : \"72\"}\n",
        "print(\"Orignal dictionary\" ,dict_1)\n",
        "dict_1[\"marks\"] = 85\n",
        "print(\"marks updated in dictionary\" , dict_1)\n",
        "dict_1[\"grade\"] = 'A'\n",
        "print(dict_1)"
      ]
    },
    {
      "cell_type": "markdown",
      "metadata": {},
      "source": [
        "Exercise 4:Write a program that reads a list of integers and returns a new list containing only the\n",
        "even numbers using list."
      ]
    },
    {
      "cell_type": "code",
      "execution_count": null,
      "metadata": {
        "colab": {
          "base_uri": "https://localhost:8080/"
        },
        "id": "4kC_RZGVHaHc",
        "outputId": "9fcfb2f2-af8c-4400-d15f-5ccad9c51639"
      },
      "outputs": [
        {
          "name": "stdout",
          "output_type": "stream",
          "text": [
            "[2, 6]\n"
          ]
        }
      ],
      "source": [
        "def even_num(list):\n",
        "    even_list = []\n",
        "    for x in list:\n",
        "      if x % 2 == 0:\n",
        "        even_list.append(x)\n",
        "    return even_list\n",
        "even_list = even_num([1,2,3,45,6,7])\n",
        "print(even_list)"
      ]
    },
    {
      "cell_type": "markdown",
      "metadata": {},
      "source": [
        "Exercise 5:\n",
        "Write a Python program that takes two lists of integers as input and returns a new list\n",
        "containing elements common to both lists, without duplicates."
      ]
    },
    {
      "cell_type": "code",
      "execution_count": null,
      "metadata": {
        "colab": {
          "base_uri": "https://localhost:8080/"
        },
        "id": "HUpAcGF-4zsS",
        "outputId": "9d4a1c89-3c7d-4549-bf8e-b2489295e039"
      },
      "outputs": [
        {
          "name": "stdout",
          "output_type": "stream",
          "text": [
            "Enter any list 1,2,3,4\n",
            "Enter any list2,4,8,9\n",
            "[2, 4]\n"
          ]
        }
      ],
      "source": [
        "def common_num(list1 , list2):\n",
        "  set1 =set(list1)\n",
        "  set2 = set(list2)\n",
        "  common_set = set1 & set2\n",
        "  common_list = list(common_set)\n",
        "  return common_list\n",
        "list1 = [int(x) for x in input('Enter any list ').split(',')]\n",
        "list2 = [int(x)for x in input('Enter any list').split(',')]\n",
        "print(common_num(list1 , list2))\n"
      ]
    },
    {
      "cell_type": "code",
      "execution_count": null,
      "metadata": {
        "colab": {
          "base_uri": "https://localhost:8080/"
        },
        "id": "OYqlla9p-e30",
        "outputId": "bdcd16e5-2711-42fe-fe87-28299ce82244"
      },
      "outputs": [
        {
          "name": "stdout",
          "output_type": "stream",
          "text": [
            "2\n",
            "4\n",
            "6\n",
            "8\n",
            "<function even_num at 0x7b9bde7b3eb0>\n"
          ]
        }
      ],
      "source": [
        "def even_num():\n",
        "  even_list = [1,2,3,4,5,6,7,8,9]\n",
        "  for x in even_list:\n",
        "    if x % 2 == 0:\n",
        "      print(x)\n",
        "even_num()\n",
        "print(even_num)"
      ]
    },
    {
      "cell_type": "markdown",
      "metadata": {},
      "source": [
        "Write a Python function that takes a list of tuples, each tuple containing a student's\n",
        "name and their average score, and returns a list of names sorted by their scores in\n",
        "descending order."
      ]
    },
    {
      "cell_type": "code",
      "execution_count": null,
      "metadata": {
        "colab": {
          "base_uri": "https://localhost:8080/"
        },
        "id": "rxP6eI1M_xZX",
        "outputId": "674567d1-11a2-4bfb-9dae-5842cee3d243"
      },
      "outputs": [
        {
          "name": "stdout",
          "output_type": "stream",
          "text": [
            "sania : 85\n",
            "sidra : 90\n"
          ]
        }
      ],
      "source": [
        "def student_data():\n",
        "  tuple_list = [('sania : 85') , ('sidra : 90')]\n",
        "  for x in tuple_list:\n",
        "    sort = sorted(x)\n",
        "    sort.reverse()\n",
        "    print(x)\n",
        "student_data()"
      ]
    },
    {
      "cell_type": "markdown",
      "metadata": {},
      "source": [
        "Exercise 7:\n",
        "\n",
        "Write a program that checks if one set is a subset of another set."
      ]
    },
    {
      "cell_type": "code",
      "execution_count": null,
      "metadata": {
        "colab": {
          "base_uri": "https://localhost:8080/"
        },
        "id": "Ay_uaGvdCDC4",
        "outputId": "bdecf034-310e-4a06-de3b-09f7b7c78ba1"
      },
      "outputs": [
        {
          "name": "stdout",
          "output_type": "stream",
          "text": [
            "set1 is subset of set2\n"
          ]
        }
      ],
      "source": [
        "def subset(set1 , set2):\n",
        "  if set1.issubset(set2):\n",
        "    print('set1 is subset of set2')\n",
        "set1 = {1,2,3}\n",
        "set2 = {1,2,3,4,5}\n",
        "subset(set1 , set2)"
      ]
    },
    {
      "cell_type": "markdown",
      "metadata": {},
      "source": [
        "Exercise 8:\n",
        "Implement a function that takes a list of strings as input and returns a new list of\n",
        "strings sorted by the length of each string, from shortest to longest."
      ]
    },
    {
      "cell_type": "code",
      "execution_count": 49,
      "metadata": {
        "id": "_soDiTYtCygl"
      },
      "outputs": [],
      "source": [
        "def my_string():\n",
        "  new_string = ('munaza , zari , python , hello')\n",
        "  for x in (len(new_string)):\n",
        "    print(new_string)\n",
        "    new_string.sort()\n",
        "  my_string()\n",
        "  print(my_string)"
      ]
    },
    {
      "cell_type": "markdown",
      "metadata": {},
      "source": [
        "Exercise 9:\n",
        "Write a Python program to implement a function that takes a list of integers as input\n",
        "and returns a new list containing only the unique elements, preserving their original\n",
        "order."
      ]
    },
    {
      "cell_type": "code",
      "execution_count": 33,
      "metadata": {
        "colab": {
          "base_uri": "https://localhost:8080/"
        },
        "id": "dH48UqT1GXaQ",
        "outputId": "8334d52b-e455-4713-ce35-e180690e7753"
      },
      "outputs": [
        {
          "name": "stdout",
          "output_type": "stream",
          "text": [
            "Enter any list 1,7,4,9\n",
            "Enter any list2,8,1\n",
            "[9, 4, 7]\n"
          ]
        }
      ],
      "source": [
        "def diff_num(list1 , list2):\n",
        "  set1 = set(list1)\n",
        "  set2 = set(list2)\n",
        "  diff_set = set1 - set2\n",
        "  diff_list = list(diff_set)\n",
        "  return diff_list\n",
        "list1 = [int(x) for x in input('Enter any list ').split(',')]\n",
        "list2 = [int(x)for x in input('Enter any list').split(',')]\n",
        "print(diff_num(list1 , list2))"
      ]
    },
    {
      "cell_type": "markdown",
      "metadata": {},
      "source": [
        "Exercise 10:\n",
        "Create a dictionary representing a word frequency counter from a given list of words.\n",
        "Write a program to find the top 3 most frequent words and their frequencies."
      ]
    },
    {
      "cell_type": "code",
      "execution_count": 48,
      "metadata": {
        "colab": {
          "base_uri": "https://localhost:8080/"
        },
        "id": "5SYAtD0KJJ1O",
        "outputId": "214428f2-b4c9-4905-c78f-4f15960d0000"
      },
      "outputs": [
        {
          "name": "stdout",
          "output_type": "stream",
          "text": [
            "{'hello': 3, 'python,': 1, ',': 5, 'hy': 2, 'apple': 2}\n"
          ]
        }
      ],
      "source": [
        "def freq_count(string):\n",
        "  freq = {}\n",
        "  for x in string.split():\n",
        "    if x in freq:\n",
        "      freq[x] += 1\n",
        "    else:\n",
        "      freq[x] = 1\n",
        "  return freq\n",
        "string = ('hello python, hello , hy , hello , hy , apple , apple')\n",
        "print(freq_count(string))\n",
        "#"
      ]
    }
  ],
  "metadata": {
    "colab": {
      "provenance": []
    },
    "kernelspec": {
      "display_name": "Python 3",
      "name": "python3"
    },
    "language_info": {
      "name": "python"
    }
  },
  "nbformat": 4,
  "nbformat_minor": 0
}
