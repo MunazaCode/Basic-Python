{
 "cells": [
  {
   "cell_type": "code",
   "execution_count": null,
   "id": "555b6f4e",
   "metadata": {},
   "outputs": [],
   "source": [
    "#Lab exercise 1"
   ]
  },
  {
   "cell_type": "code",
   "execution_count": null,
   "id": "fd09d218",
   "metadata": {},
   "outputs": [],
   "source": [
    "#1. Basic Operations with Different Data Types"
   ]
  },
  {
   "cell_type": "code",
   "execution_count": 11,
   "id": "ebc0e80c",
   "metadata": {},
   "outputs": [
    {
     "name": "stdout",
     "output_type": "stream",
     "text": [
      "Enter first integer num: 8\n",
      "Enter second integer num: 5\n",
      "Enter float num: 7.5\n",
      "Additon:  20.5 \n",
      "subtraction:  -4.5 \n",
      "multiplication:  300.0\n"
     ]
    }
   ],
   "source": [
    "num1 = int(input('Enter first integer num: '))\n",
    "num2 = int(input('Enter second integer num: '))\n",
    "float_num =float(input('Enter float num: '))\n",
    "add = num1+num2+float_num\n",
    "sub = num1-num2-float_num\n",
    "multi = num1*num2*float_num\n",
    "print('Additon: ',add, '\\nsubtraction: ',sub, '\\nmultiplication: ',multi)"
   ]
  },
  {
   "cell_type": "code",
   "execution_count": null,
   "id": "426c285d",
   "metadata": {},
   "outputs": [],
   "source": [
    "#2. User Input"
   ]
  },
  {
   "cell_type": "code",
   "execution_count": 9,
   "id": "67a2e956",
   "metadata": {},
   "outputs": [
    {
     "name": "stdout",
     "output_type": "stream",
     "text": [
      "Enter your name: Munaza\n",
      "Enter your age: 21\n",
      "My name is Munaza I am 21 years old\n"
     ]
    }
   ],
   "source": [
    "name = input('Enter your name: ')\n",
    "age = int(input('Enter your age: '))\n",
    "print('My name is' , name, 'I am' , age,'years old')"
   ]
  },
  {
   "cell_type": "code",
   "execution_count": null,
   "id": "f1e87e6f",
   "metadata": {},
   "outputs": [],
   "source": [
    "#3.: Simple Calculator"
   ]
  },
  {
   "cell_type": "code",
   "execution_count": 10,
   "id": "1439c399",
   "metadata": {},
   "outputs": [
    {
     "name": "stdout",
     "output_type": "stream",
     "text": [
      "Enter the first number: 5\n",
      "Enter the second number: 3\n",
      "Enter an arithmetic operator (+, -, *, /): *\n",
      "The result is: 15.0\n"
     ]
    }
   ],
   "source": [
    "num1 = float(input(\"Enter the first number: \"))\n",
    "num2 = float(input(\"Enter the second number: \"))\n",
    "operator = input(\"Enter an arithmetic operator (+, -, *, /): \")\n",
    "\n",
    "# Performing  operation\n",
    "if operator == '+':\n",
    "    result = num1 + num2\n",
    "elif operator == '-':\n",
    "    result = num1 - num2\n",
    "elif operator == '*':\n",
    "    result = num1 * num2\n",
    "elif operator == '/':\n",
    "    if num2 != 0:  # Checking for division by zero\n",
    "        result = num1 / num2\n",
    "\n",
    "# Printing the result\n",
    "print(f\"The result is: {result}\")\n"
   ]
  },
  {
   "cell_type": "code",
   "execution_count": null,
   "id": "70144147",
   "metadata": {},
   "outputs": [],
   "source": [
    "#4. Basic Arithmetic"
   ]
  },
  {
   "cell_type": "code",
   "execution_count": 59,
   "id": "76ce80a3",
   "metadata": {},
   "outputs": [
    {
     "name": "stdout",
     "output_type": "stream",
     "text": [
      "Enter first num: 5\n",
      "Enter second num: 9\n"
     ]
    }
   ],
   "source": [
    "a = int(input('Enter first num: '))\n",
    "b = int(input('Enter second num: '))\n",
    "sum = a + b\n",
    "product = a * b\n",
    "difference = a - b\n",
    "if b != 0:\n",
    "    quotient = a / b\n",
    "else:\n",
    "    quotient = \"Error: Division by zero is not allowed.\"\n",
    "    \n",
    "  "
   ]
  },
  {
   "cell_type": "code",
   "execution_count": null,
   "id": "2579aeed",
   "metadata": {},
   "outputs": [],
   "source": [
    "#reslut"
   ]
  },
  {
   "cell_type": "code",
   "execution_count": 60,
   "id": "9aa43e52",
   "metadata": {},
   "outputs": [
    {
     "name": "stdout",
     "output_type": "stream",
     "text": [
      "The result of sum =  14\n",
      "The result of product =  45\n",
      "The result of difference =  -4\n",
      "The result of quotient =  0.5555555555555556\n"
     ]
    }
   ],
   "source": [
    " \n",
    "    print(\"The result of sum = \" , sum)\n",
    "    print(\"The result of product = \" , product)\n",
    "    print(\"The result of difference = \" , difference)\n",
    "    print(\"The result of quotient = \" ,  quotient)"
   ]
  },
  {
   "cell_type": "code",
   "execution_count": null,
   "id": "704ff66e",
   "metadata": {},
   "outputs": [],
   "source": [
    "#5.Exponentiation"
   ]
  },
  {
   "cell_type": "code",
   "execution_count": 62,
   "id": "c3f27157",
   "metadata": {},
   "outputs": [
    {
     "name": "stdout",
     "output_type": "stream",
     "text": [
      "Enter base number: 6\n",
      "Enter exponent number: 2\n",
      "The result is: a raised to the power of b 36\n"
     ]
    }
   ],
   "source": [
    "a = int(input('Enter base number: '))\n",
    "b = int(input('Enter exponent number: '))\n",
    "result = a ** b \n",
    "print('The result is: a raised to the power of b', result)"
   ]
  },
  {
   "cell_type": "code",
   "execution_count": null,
   "id": "abcdd599",
   "metadata": {},
   "outputs": [],
   "source": [
    "#6. : Remainder Calculation"
   ]
  },
  {
   "cell_type": "code",
   "execution_count": 65,
   "id": "f6f45026",
   "metadata": {},
   "outputs": [
    {
     "name": "stdout",
     "output_type": "stream",
     "text": [
      "Enter the first number: 19\n",
      "Enter the second number: 5\n",
      "The remainder of  19 and 5 = 4\n"
     ]
    }
   ],
   "source": [
    "x = int(input('Enter the first number: '))\n",
    "y = int(input('Enter the second number: '))\n",
    "remainder = x % y\n",
    "print('The remainder of ' ,x, 'and' ,y,'=' , remainder)"
   ]
  },
  {
   "cell_type": "code",
   "execution_count": null,
   "id": "565125dc",
   "metadata": {},
   "outputs": [],
   "source": [
    "#7.Area and Perimeter"
   ]
  },
  {
   "cell_type": "code",
   "execution_count": 67,
   "id": "f324cf30",
   "metadata": {},
   "outputs": [
    {
     "name": "stdout",
     "output_type": "stream",
     "text": [
      "Enter the length of rectangle: 9.5\n",
      "Enter the width of rectangle: 6.0\n",
      "Area of the rectangle =  57.0 \n",
      "perimetr of the rectangle =  31.0\n"
     ]
    }
   ],
   "source": [
    "length = float(input('Enter the length of rectangle: '))\n",
    "width = float(input('Enter the width of rectangle: '))\n",
    "area = length * width\n",
    "perimetr = 2 * (length + width)\n",
    "print('Area of the rectangle = ',area,'\\nperimetr of the rectangle = ',perimetr)"
   ]
  },
  {
   "cell_type": "code",
   "execution_count": null,
   "id": "4a7f4a54",
   "metadata": {},
   "outputs": [],
   "source": [
    "#8. String Length"
   ]
  },
  {
   "cell_type": "code",
   "execution_count": 1,
   "id": "7cbbbc95",
   "metadata": {},
   "outputs": [
    {
     "name": "stdout",
     "output_type": "stream",
     "text": [
      "Enter a string:  Machine learning\n",
      "length of str_1 =  16\n"
     ]
    }
   ],
   "source": [
    "str_1 = input('Enter a string:  ')\n",
    "string_length = len(str_1)\n",
    "print('length of str_1 = ',string_length)"
   ]
  },
  {
   "cell_type": "code",
   "execution_count": null,
   "id": "102fa029",
   "metadata": {},
   "outputs": [],
   "source": [
    "#9: Substring Extraction"
   ]
  },
  {
   "cell_type": "code",
   "execution_count": 5,
   "id": "06217081",
   "metadata": {
    "scrolled": true
   },
   "outputs": [
    {
     "name": "stdout",
     "output_type": "stream",
     "text": [
      "Enter a string: hello\n",
      "Enter start index: 0\n",
      "Enter end index: 1\n",
      "The string start from 0 to 1   h\n"
     ]
    }
   ],
   "source": [
    "string_1 = input('Enter a string: ')\n",
    "start_index = int(input('Enter start index: '))\n",
    "end_index = int(input('Enter end index: '))\n",
    "substring = string_1[start_index:end_index]\n",
    "print('The string start from',start_index,'to',end_index,' ' ,substring)"
   ]
  },
  {
   "cell_type": "code",
   "execution_count": null,
   "id": "43062015",
   "metadata": {},
   "outputs": [],
   "source": [
    "#10: String Replacement"
   ]
  },
  {
   "cell_type": "code",
   "execution_count": 6,
   "id": "4d6c8ab7",
   "metadata": {},
   "outputs": [
    {
     "name": "stdout",
     "output_type": "stream",
     "text": [
      "Enter a string: hello world\n",
      "Enter the character to be replaced: l\n",
      "Enter the replacement character: b\n",
      "The modified string is: hebbo worbd\n"
     ]
    }
   ],
   "source": [
    "input_string = input(\"Enter a string: \")\n",
    "\n",
    "char_to_replace = input(\"Enter the character to be replaced: \")\n",
    "replacement_char = input(\"Enter the replacement character: \")\n",
    "\n",
    "modified_string = input_string.replace(char_to_replace, replacement_char)\n",
    "\n",
    "print(f\"The modified string is: {modified_string}\")"
   ]
  },
  {
   "cell_type": "code",
   "execution_count": null,
   "id": "ceceaeaf",
   "metadata": {},
   "outputs": [],
   "source": [
    "#11Upper and Lower Case Conversion"
   ]
  },
  {
   "cell_type": "code",
   "execution_count": 7,
   "id": "009d58ea",
   "metadata": {},
   "outputs": [
    {
     "name": "stdout",
     "output_type": "stream",
     "text": [
      "Enter a string: hello python\n",
      "Uppercase version: HELLO PYTHON\n",
      "Lowercase version: hello python\n"
     ]
    }
   ],
   "source": [
    "\n",
    "input_string = input(\"Enter a string: \")\n",
    "\n",
    "uppercase_string = input_string.upper()\n",
    "\n",
    "\n",
    "lowercase_string = input_string.lower()\n",
    "\n",
    "print(f\"Uppercase version: {uppercase_string}\")\n",
    "print(f\"Lowercase version: {lowercase_string}\")\n"
   ]
  },
  {
   "cell_type": "code",
   "execution_count": null,
   "id": "778648af",
   "metadata": {},
   "outputs": [],
   "source": []
  }
 ],
 "metadata": {
  "kernelspec": {
   "display_name": "Python 3 (ipykernel)",
   "language": "python",
   "name": "python3"
  },
  "language_info": {
   "codemirror_mode": {
    "name": "ipython",
    "version": 3
   },
   "file_extension": ".py",
   "mimetype": "text/x-python",
   "name": "python",
   "nbconvert_exporter": "python",
   "pygments_lexer": "ipython3",
   "version": "3.9.13"
  }
 },
 "nbformat": 4,
 "nbformat_minor": 5
}
